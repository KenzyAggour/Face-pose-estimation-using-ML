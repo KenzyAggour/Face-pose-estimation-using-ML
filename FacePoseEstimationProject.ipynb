{
  "cells": [
    {
      "cell_type": "code",
      "execution_count": 1,
      "metadata": {
        "colab": {
          "base_uri": "https://localhost:8080/"
        },
        "id": "x_04b1y3cIEm",
        "outputId": "54486aff-9794-49ed-942a-f15805f85a6a"
      },
      "outputs": [
        {
          "name": "stdout",
          "output_type": "stream",
          "text": [
            "Requirement already satisfied: mediapipe in c:\\users\\user\\appdata\\local\\programs\\python\\python310\\lib\\site-packages (0.10.10)\n",
            "Requirement already satisfied: jax in c:\\users\\user\\appdata\\local\\programs\\python\\python310\\lib\\site-packages (from mediapipe) (0.4.24)\n",
            "Requirement already satisfied: protobuf<4,>=3.11 in c:\\users\\user\\appdata\\local\\programs\\python\\python310\\lib\\site-packages (from mediapipe) (3.20.3)\n",
            "Requirement already satisfied: flatbuffers>=2.0 in c:\\users\\user\\appdata\\local\\programs\\python\\python310\\lib\\site-packages (from mediapipe) (23.5.26)\n",
            "Requirement already satisfied: attrs>=19.1.0 in c:\\users\\user\\appdata\\local\\programs\\python\\python310\\lib\\site-packages (from mediapipe) (23.1.0)\n",
            "Requirement already satisfied: numpy in c:\\users\\user\\appdata\\local\\programs\\python\\python310\\lib\\site-packages (from mediapipe) (1.26.2)\n",
            "Requirement already satisfied: sounddevice>=0.4.4 in c:\\users\\user\\appdata\\local\\programs\\python\\python310\\lib\\site-packages (from mediapipe) (0.4.6)\n",
            "Requirement already satisfied: matplotlib in c:\\users\\user\\appdata\\local\\programs\\python\\python310\\lib\\site-packages (from mediapipe) (3.8.2)\n",
            "Requirement already satisfied: opencv-contrib-python in c:\\users\\user\\appdata\\local\\programs\\python\\python310\\lib\\site-packages (from mediapipe) (4.9.0.80)\n",
            "Requirement already satisfied: absl-py in c:\\users\\user\\appdata\\local\\programs\\python\\python310\\lib\\site-packages (from mediapipe) (2.1.0)\n",
            "Requirement already satisfied: CFFI>=1.0 in c:\\users\\user\\appdata\\local\\programs\\python\\python310\\lib\\site-packages (from sounddevice>=0.4.4->mediapipe) (1.16.0)\n",
            "Requirement already satisfied: pycparser in c:\\users\\user\\appdata\\local\\programs\\python\\python310\\lib\\site-packages (from CFFI>=1.0->sounddevice>=0.4.4->mediapipe) (2.21)\n",
            "Requirement already satisfied: ml-dtypes>=0.2.0 in c:\\users\\user\\appdata\\local\\programs\\python\\python310\\lib\\site-packages (from jax->mediapipe) (0.3.2)\n",
            "Requirement already satisfied: opt-einsum in c:\\users\\user\\appdata\\local\\programs\\python\\python310\\lib\\site-packages (from jax->mediapipe) (3.3.0)\n",
            "Requirement already satisfied: scipy>=1.9 in c:\\users\\user\\appdata\\local\\programs\\python\\python310\\lib\\site-packages (from jax->mediapipe) (1.11.4)\n",
            "Requirement already satisfied: kiwisolver>=1.3.1 in c:\\users\\user\\appdata\\local\\programs\\python\\python310\\lib\\site-packages (from matplotlib->mediapipe) (1.4.5)\n",
            "Requirement already satisfied: cycler>=0.10 in c:\\users\\user\\appdata\\local\\programs\\python\\python310\\lib\\site-packages (from matplotlib->mediapipe) (0.12.1)\n",
            "Requirement already satisfied: fonttools>=4.22.0 in c:\\users\\user\\appdata\\local\\programs\\python\\python310\\lib\\site-packages (from matplotlib->mediapipe) (4.46.0)\n",
            "Requirement already satisfied: pyparsing>=2.3.1 in c:\\users\\user\\appdata\\local\\programs\\python\\python310\\lib\\site-packages (from matplotlib->mediapipe) (3.1.1)\n",
            "Requirement already satisfied: python-dateutil>=2.7 in c:\\users\\user\\appdata\\local\\programs\\python\\python310\\lib\\site-packages (from matplotlib->mediapipe) (2.8.2)\n",
            "Requirement already satisfied: contourpy>=1.0.1 in c:\\users\\user\\appdata\\local\\programs\\python\\python310\\lib\\site-packages (from matplotlib->mediapipe) (1.2.0)\n",
            "Requirement already satisfied: pillow>=8 in c:\\users\\user\\appdata\\local\\programs\\python\\python310\\lib\\site-packages (from matplotlib->mediapipe) (10.1.0)\n",
            "Requirement already satisfied: packaging>=20.0 in c:\\users\\user\\appdata\\local\\programs\\python\\python310\\lib\\site-packages (from matplotlib->mediapipe) (23.2)\n",
            "Requirement already satisfied: six>=1.5 in c:\\users\\user\\appdata\\local\\programs\\python\\python310\\lib\\site-packages (from python-dateutil>=2.7->matplotlib->mediapipe) (1.16.0)\n"
          ]
        },
        {
          "name": "stderr",
          "output_type": "stream",
          "text": [
            "WARNING: You are using pip version 21.2.3; however, version 24.0 is available.\n",
            "You should consider upgrading via the 'C:\\Users\\User\\AppData\\Local\\Programs\\Python\\Python310\\python.exe -m pip install --upgrade pip' command.\n"
          ]
        }
      ],
      "source": [
        "!pip install mediapipe"
      ]
    },
    {
      "cell_type": "code",
      "execution_count": 2,
      "metadata": {
        "id": "duEcubQrWe2m"
      },
      "outputs": [],
      "source": [
        "import numpy as np\n",
        "import matplotlib.pyplot as plt\n",
        "import os,cv2,math,glob,random\n",
        "import scipy.io as sio\n",
        "from math import cos, sin\n",
        "from pathlib import Path\n",
        "import pandas as pd\n",
        "import mediapipe\n",
        "import warnings\n",
        "warnings.filterwarnings('ignore')\n",
        "#from google.colab.patches import cv2_imshow"
      ]
    },
    {
      "cell_type": "code",
      "execution_count": 3,
      "metadata": {
        "id": "-nQo1IZnZW5n"
      },
      "outputs": [],
      "source": [
        "#%%capture\n",
        "#if os.path.isfile(r'C:\\Users\\User\\Downloads\\ml1proj\\AFLW2000-3D.zip') == False:\n",
        "#  !gdown --id  1fP3zvSCYjll_o_m7S12nvQLZ9MnsEoap\n",
        "#  !unzip r\"C:\\Users\\User\\Downloads\\ml1proj\\AFLW2000-3D.zip\"\n"
      ]
    },
    {
      "cell_type": "markdown",
      "metadata": {},
      "source": [
        "Getting features and labels"
      ]
    },
    {
      "cell_type": "code",
      "execution_count": 23,
      "metadata": {},
      "outputs": [],
      "source": [
        "folder_path = \"D:\\ITIContent\\ml1proj\\AFLW2000-3D\\AFLW2000\"\n",
        "landmark_points = []\n",
        "pose_parameters = []\n",
        "i=0\n",
        "# Loop through each file in the folder\n",
        "for filename in os.listdir(folder_path):\n",
        "    # Check if the file is an image (you can add more extensions if needed)\n",
        "    if filename.endswith(\".jpg\") :\n",
        "        # Construct the full path to the image file\n",
        "        image_path = os.path.join(folder_path, filename)\n",
        "        faceModule = mediapipe.solutions.face_mesh\n",
        "        # loading image and its correspinding mat file\n",
        "        with faceModule.FaceMesh(static_image_mode=True) as faces:\n",
        "            # loading the image\n",
        "            image = cv2.imread(image_path)\n",
        "        \n",
        "            # processing the face to extract the landmark points (468 point) for each x,y,z\n",
        "            results = faces.process(cv2.cvtColor(image, cv2.COLOR_BGR2RGB))\n",
        "            j = 0\n",
        "            if results.multi_face_landmarks != None: \n",
        "              # looping over the faces in the image\n",
        "                for face in results.multi_face_landmarks:\n",
        "                    for landmark in face.landmark:\n",
        "                        x = landmark.x\n",
        "                        y = landmark.y\n",
        "                        if j==0:\n",
        "                            landmark_points.append([x,y])\n",
        "                            j=1\n",
        "                        else:\n",
        "                            landmark_points[i].extend([x,y])\n",
        "\n",
        "                i+=1\n",
        "        \n",
        "    elif filename.endswith(\".mat\") and results.multi_face_landmarks != None :\n",
        "        mat_path = os.path.join(folder_path, filename)\n",
        "        \n",
        "        # loading the mat file to extract the 3 angels of the face (pitch,yaw,roll)\n",
        "        mat_file = sio.loadmat(mat_path)\n",
        "        # extracting the labels 3 angels\n",
        "        pose_para = mat_file[\"Pose_Para\"][0][:3]\n",
        "        \n",
        "        pose_parameters.append(mat_file[\"Pose_Para\"][0][:3]) "
      ]
    },
    {
      "cell_type": "markdown",
      "metadata": {},
      "source": [
        "Preprocessing"
      ]
    },
    {
      "cell_type": "code",
      "execution_count": 15,
      "metadata": {},
      "outputs": [],
      "source": [
        "def pre_process(matrix):\n",
        "    full_mat_arr = np.array(matrix)\n",
        "    x = full_mat_arr[:,::2]\n",
        "    y = full_mat_arr[:,1::2]\n",
        "\n",
        "    mean_x = x.mean(axis=1).reshape(-1,1) \n",
        "    mean_y = y.mean(axis=1).reshape(-1,1) \n",
        "\n",
        "    x_normalized = (x-mean_x)/np.max(x-mean_x , axis=1).reshape(-1,1)\n",
        "    y_normalized = (y-mean_y)/np.max(y-mean_y , axis=1).reshape(-1,1)\n",
        "\n",
        "    matrix_normalized = np.concatenate((x_normalized, y_normalized), axis=1)\n",
        "    return matrix_normalized"
      ]
    },
    {
      "cell_type": "code",
      "execution_count": 26,
      "metadata": {},
      "outputs": [],
      "source": [
        "features = pre_process(landmark_points)"
      ]
    },
    {
      "cell_type": "code",
      "execution_count": 27,
      "metadata": {},
      "outputs": [
        {
          "data": {
            "text/plain": [
              "(1853, 936)"
            ]
          },
          "execution_count": 27,
          "metadata": {},
          "output_type": "execute_result"
        }
      ],
      "source": [
        "features.shape"
      ]
    },
    {
      "cell_type": "code",
      "execution_count": 28,
      "metadata": {},
      "outputs": [
        {
          "data": {
            "text/html": [
              "<div>\n",
              "<style scoped>\n",
              "    .dataframe tbody tr th:only-of-type {\n",
              "        vertical-align: middle;\n",
              "    }\n",
              "\n",
              "    .dataframe tbody tr th {\n",
              "        vertical-align: top;\n",
              "    }\n",
              "\n",
              "    .dataframe thead th {\n",
              "        text-align: right;\n",
              "    }\n",
              "</style>\n",
              "<table border=\"1\" class=\"dataframe\">\n",
              "  <thead>\n",
              "    <tr style=\"text-align: right;\">\n",
              "      <th></th>\n",
              "      <th>0</th>\n",
              "      <th>1</th>\n",
              "      <th>2</th>\n",
              "      <th>3</th>\n",
              "      <th>4</th>\n",
              "      <th>5</th>\n",
              "      <th>6</th>\n",
              "      <th>7</th>\n",
              "      <th>8</th>\n",
              "      <th>9</th>\n",
              "      <th>...</th>\n",
              "      <th>926</th>\n",
              "      <th>927</th>\n",
              "      <th>928</th>\n",
              "      <th>929</th>\n",
              "      <th>930</th>\n",
              "      <th>931</th>\n",
              "      <th>932</th>\n",
              "      <th>933</th>\n",
              "      <th>934</th>\n",
              "      <th>935</th>\n",
              "    </tr>\n",
              "  </thead>\n",
              "  <tbody>\n",
              "    <tr>\n",
              "      <th>0</th>\n",
              "      <td>-0.054009</td>\n",
              "      <td>-0.040370</td>\n",
              "      <td>-0.038028</td>\n",
              "      <td>-0.076798</td>\n",
              "      <td>-0.035119</td>\n",
              "      <td>-0.023282</td>\n",
              "      <td>0.013516</td>\n",
              "      <td>-0.523500</td>\n",
              "      <td>0.034438</td>\n",
              "      <td>0.041904</td>\n",
              "      <td>...</td>\n",
              "      <td>0.247213</td>\n",
              "      <td>0.224374</td>\n",
              "      <td>0.229533</td>\n",
              "      <td>0.260067</td>\n",
              "      <td>0.260768</td>\n",
              "      <td>-0.382411</td>\n",
              "      <td>-0.351421</td>\n",
              "      <td>-0.320908</td>\n",
              "      <td>-0.438123</td>\n",
              "      <td>-0.467719</td>\n",
              "    </tr>\n",
              "    <tr>\n",
              "      <th>1</th>\n",
              "      <td>-0.215842</td>\n",
              "      <td>-0.311608</td>\n",
              "      <td>-0.186841</td>\n",
              "      <td>-0.237612</td>\n",
              "      <td>-0.317600</td>\n",
              "      <td>-0.274030</td>\n",
              "      <td>-0.126127</td>\n",
              "      <td>-0.125290</td>\n",
              "      <td>-0.086885</td>\n",
              "      <td>-0.095023</td>\n",
              "      <td>...</td>\n",
              "      <td>0.110457</td>\n",
              "      <td>0.086568</td>\n",
              "      <td>0.165540</td>\n",
              "      <td>0.113408</td>\n",
              "      <td>0.138896</td>\n",
              "      <td>-0.413988</td>\n",
              "      <td>-0.387064</td>\n",
              "      <td>-0.369057</td>\n",
              "      <td>-0.451886</td>\n",
              "      <td>-0.479313</td>\n",
              "    </tr>\n",
              "    <tr>\n",
              "      <th>2</th>\n",
              "      <td>0.060703</td>\n",
              "      <td>0.099913</td>\n",
              "      <td>0.066462</td>\n",
              "      <td>-0.014083</td>\n",
              "      <td>0.101372</td>\n",
              "      <td>0.089088</td>\n",
              "      <td>0.044666</td>\n",
              "      <td>-0.723454</td>\n",
              "      <td>0.026020</td>\n",
              "      <td>0.024092</td>\n",
              "      <td>...</td>\n",
              "      <td>0.142616</td>\n",
              "      <td>0.116409</td>\n",
              "      <td>0.123669</td>\n",
              "      <td>0.153813</td>\n",
              "      <td>0.161707</td>\n",
              "      <td>-0.389570</td>\n",
              "      <td>-0.362216</td>\n",
              "      <td>-0.340198</td>\n",
              "      <td>-0.431603</td>\n",
              "      <td>-0.460729</td>\n",
              "    </tr>\n",
              "    <tr>\n",
              "      <th>3</th>\n",
              "      <td>0.018921</td>\n",
              "      <td>-0.119623</td>\n",
              "      <td>-0.039146</td>\n",
              "      <td>-0.220663</td>\n",
              "      <td>-0.150898</td>\n",
              "      <td>-0.169590</td>\n",
              "      <td>-0.192763</td>\n",
              "      <td>-0.554353</td>\n",
              "      <td>-0.247986</td>\n",
              "      <td>-0.286640</td>\n",
              "      <td>...</td>\n",
              "      <td>0.245690</td>\n",
              "      <td>0.207056</td>\n",
              "      <td>0.172181</td>\n",
              "      <td>0.264689</td>\n",
              "      <td>0.266530</td>\n",
              "      <td>-0.452726</td>\n",
              "      <td>-0.406874</td>\n",
              "      <td>-0.368635</td>\n",
              "      <td>-0.668241</td>\n",
              "      <td>-0.720458</td>\n",
              "    </tr>\n",
              "    <tr>\n",
              "      <th>4</th>\n",
              "      <td>0.052235</td>\n",
              "      <td>-0.026310</td>\n",
              "      <td>0.005212</td>\n",
              "      <td>-0.140076</td>\n",
              "      <td>-0.046625</td>\n",
              "      <td>-0.067283</td>\n",
              "      <td>-0.109120</td>\n",
              "      <td>-0.630865</td>\n",
              "      <td>-0.134262</td>\n",
              "      <td>-0.155106</td>\n",
              "      <td>...</td>\n",
              "      <td>0.086542</td>\n",
              "      <td>0.053946</td>\n",
              "      <td>0.087525</td>\n",
              "      <td>0.097064</td>\n",
              "      <td>0.114359</td>\n",
              "      <td>-0.421979</td>\n",
              "      <td>-0.394538</td>\n",
              "      <td>-0.378136</td>\n",
              "      <td>-0.540910</td>\n",
              "      <td>-0.557696</td>\n",
              "    </tr>\n",
              "  </tbody>\n",
              "</table>\n",
              "<p>5 rows × 936 columns</p>\n",
              "</div>"
            ],
            "text/plain": [
              "        0         1         2         3         4         5         6    \\\n",
              "0 -0.054009 -0.040370 -0.038028 -0.076798 -0.035119 -0.023282  0.013516   \n",
              "1 -0.215842 -0.311608 -0.186841 -0.237612 -0.317600 -0.274030 -0.126127   \n",
              "2  0.060703  0.099913  0.066462 -0.014083  0.101372  0.089088  0.044666   \n",
              "3  0.018921 -0.119623 -0.039146 -0.220663 -0.150898 -0.169590 -0.192763   \n",
              "4  0.052235 -0.026310  0.005212 -0.140076 -0.046625 -0.067283 -0.109120   \n",
              "\n",
              "        7         8         9    ...       926       927       928       929  \\\n",
              "0 -0.523500  0.034438  0.041904  ...  0.247213  0.224374  0.229533  0.260067   \n",
              "1 -0.125290 -0.086885 -0.095023  ...  0.110457  0.086568  0.165540  0.113408   \n",
              "2 -0.723454  0.026020  0.024092  ...  0.142616  0.116409  0.123669  0.153813   \n",
              "3 -0.554353 -0.247986 -0.286640  ...  0.245690  0.207056  0.172181  0.264689   \n",
              "4 -0.630865 -0.134262 -0.155106  ...  0.086542  0.053946  0.087525  0.097064   \n",
              "\n",
              "        930       931       932       933       934       935  \n",
              "0  0.260768 -0.382411 -0.351421 -0.320908 -0.438123 -0.467719  \n",
              "1  0.138896 -0.413988 -0.387064 -0.369057 -0.451886 -0.479313  \n",
              "2  0.161707 -0.389570 -0.362216 -0.340198 -0.431603 -0.460729  \n",
              "3  0.266530 -0.452726 -0.406874 -0.368635 -0.668241 -0.720458  \n",
              "4  0.114359 -0.421979 -0.394538 -0.378136 -0.540910 -0.557696  \n",
              "\n",
              "[5 rows x 936 columns]"
            ]
          },
          "execution_count": 28,
          "metadata": {},
          "output_type": "execute_result"
        }
      ],
      "source": [
        "featuresdf = pd.DataFrame(features)\n",
        "featuresdf.head()"
      ]
    },
    {
      "cell_type": "markdown",
      "metadata": {
        "id": "lWUpMuE2BR3o"
      },
      "source": [
        "Splitting dataset"
      ]
    },
    {
      "cell_type": "code",
      "execution_count": 32,
      "metadata": {
        "id": "ycsp2qwsUEw9"
      },
      "outputs": [],
      "source": [
        "from sklearn.model_selection import train_test_split"
      ]
    },
    {
      "cell_type": "code",
      "execution_count": 33,
      "metadata": {
        "colab": {
          "base_uri": "https://localhost:8080/"
        },
        "id": "Z9EOSq2zJnp3",
        "outputId": "6080abc0-63dd-415b-b225-60d4fe477966"
      },
      "outputs": [
        {
          "name": "stdout",
          "output_type": "stream",
          "text": [
            "(1482, 936) \n",
            " (371, 936)\n"
          ]
        }
      ],
      "source": [
        "seed = 42\n",
        "features_train, features_test, labels_train, labels_test = train_test_split(features, pose_parameters, test_size=0.2, random_state=42)\n",
        "print(features_train.shape,'\\n',features_test.shape)"
      ]
    },
    {
      "cell_type": "markdown",
      "metadata": {
        "id": "tCOc-1vgVNqo"
      },
      "source": [
        "Modelling"
      ]
    },
    {
      "cell_type": "code",
      "execution_count": 34,
      "metadata": {
        "id": "qaOmtBBXUeqg"
      },
      "outputs": [],
      "source": [
        "from sklearn.linear_model import LinearRegression\n",
        "from sklearn.linear_model import Ridge\n",
        "from sklearn import linear_model\n",
        "from sklearn.linear_model import ElasticNet\n",
        "from sklearn.ensemble import RandomForestRegressor\n",
        "from sklearn.tree import DecisionTreeRegressor\n",
        "from sklearn.svm import SVR\n",
        "from sklearn.ensemble import AdaBoostRegressor\n",
        "import xgboost as xg\n",
        "from sklearn.multioutput import MultiOutputRegressor\n",
        "from sklearn.model_selection import GridSearchCV\n",
        "from sklearn.metrics import mean_squared_error, make_scorer"
      ]
    },
    {
      "cell_type": "code",
      "execution_count": 35,
      "metadata": {},
      "outputs": [],
      "source": [
        "import joblib"
      ]
    },
    {
      "cell_type": "code",
      "execution_count": 36,
      "metadata": {
        "colab": {
          "base_uri": "https://localhost:8080/"
        },
        "id": "yFdg53xLWlvq",
        "outputId": "0f661d9e-e31a-43ac-bea1-fb3fc4a857f5"
      },
      "outputs": [
        {
          "name": "stdout",
          "output_type": "stream",
          "text": [
            "Train :  0.9846539869111393\n",
            "Test :  -3.264839781541092\n"
          ]
        }
      ],
      "source": [
        "#Linear Regression\n",
        "reg = LinearRegression()\n",
        "reg.fit(features_train, labels_train)\n",
        "print('Train : ', reg.score(features_train, labels_train))\n",
        "print('Test : ', reg.score(features_test, labels_test))"
      ]
    },
    {
      "cell_type": "markdown",
      "metadata": {
        "id": "mKx7pfPEKRXK"
      },
      "source": [
        "##########################"
      ]
    },
    {
      "cell_type": "code",
      "execution_count": 37,
      "metadata": {
        "colab": {
          "base_uri": "https://localhost:8080/"
        },
        "id": "bP9LUAAMf0iV",
        "outputId": "536f7281-854a-42da-8c34-db4ed2d7c5d3"
      },
      "outputs": [
        {
          "name": "stdout",
          "output_type": "stream",
          "text": [
            "Best Hyperparameters: {'alpha': 0.01}\n",
            "Train :  0.3895526105356888\n",
            "Test :  0.7463863984892932\n"
          ]
        }
      ],
      "source": [
        "#Lasso\n",
        "lasso_model = linear_model.Lasso()\n",
        "param_grid = {\n",
        "    'alpha': [0.0001, 0.0005, 0.001, 0.01, 0.1, 1.0]}\n",
        "mse_scorer = make_scorer(mean_squared_error, greater_is_better=False)\n",
        "grid_search = GridSearchCV(estimator=lasso_model, param_grid=param_grid, cv=5, scoring=mse_scorer)\n",
        "grid_search.fit(features_train, labels_train)\n",
        "print(\"Best Hyperparameters:\", grid_search.best_params_)\n",
        "\n",
        "best_lasso_norm_nopca = grid_search.best_estimator_\n",
        "print('Train : ', best_lasso_norm_nopca.score(features_train, labels_train))\n",
        "print('Test : ', best_lasso_norm_nopca.score(features_test, labels_test))"
      ]
    },
    {
      "cell_type": "code",
      "execution_count": 94,
      "metadata": {},
      "outputs": [
        {
          "data": {
            "text/plain": [
              "['best_lasso_norm_nopca.pkl']"
            ]
          },
          "execution_count": 94,
          "metadata": {},
          "output_type": "execute_result"
        }
      ],
      "source": [
        "joblib.dump(best_lasso_norm_nopca,\"best_lasso_norm_nopca.pkl\")"
      ]
    },
    {
      "cell_type": "markdown",
      "metadata": {
        "id": "0T4EjF2IKXCF"
      },
      "source": [
        "###########################"
      ]
    },
    {
      "cell_type": "code",
      "execution_count": 38,
      "metadata": {
        "colab": {
          "base_uri": "https://localhost:8080/"
        },
        "id": "Pha5qfFucz6-",
        "outputId": "4df9dbc0-726d-4da8-c9fd-90a8a15524ad"
      },
      "outputs": [
        {
          "name": "stdout",
          "output_type": "stream",
          "text": [
            "Best Hyperparameters: {'alpha': 1.0}\n",
            "Train :  0.4872541189368162\n",
            "Test :  0.6190794447441481\n"
          ]
        }
      ],
      "source": [
        "#Ridge\n",
        "ridge_model = Ridge()\n",
        "param_grid = {\n",
        "    'alpha': [0.0001, 0.001, 0.01, 0.1, 0.5,1.0] }\n",
        "mse_scorer = make_scorer(mean_squared_error, greater_is_better=False)\n",
        "grid_search = GridSearchCV(estimator=ridge_model, param_grid=param_grid, cv=5, scoring=mse_scorer)\n",
        "grid_search.fit(features_train, labels_train)\n",
        "\n",
        "print(\"Best Hyperparameters:\", grid_search.best_params_)\n",
        "best_ridge_norm_nopca = grid_search.best_estimator_\n",
        "print('Train : ', best_ridge_norm_nopca.score(features_train, labels_train))\n",
        "print('Test : ', best_ridge_norm_nopca.score(features_test, labels_test))"
      ]
    },
    {
      "cell_type": "code",
      "execution_count": 95,
      "metadata": {},
      "outputs": [
        {
          "data": {
            "text/plain": [
              "['best_ridge_norm_nopca.pkl']"
            ]
          },
          "execution_count": 95,
          "metadata": {},
          "output_type": "execute_result"
        }
      ],
      "source": [
        "joblib.dump(best_ridge_norm_nopca,\"best_ridge_norm_nopca.pkl\")"
      ]
    },
    {
      "cell_type": "markdown",
      "metadata": {
        "id": "U7We40o4LCi8"
      },
      "source": [
        "###############################"
      ]
    },
    {
      "cell_type": "code",
      "execution_count": 39,
      "metadata": {
        "colab": {
          "base_uri": "https://localhost:8080/"
        },
        "id": "feLAz4sGk64P",
        "outputId": "57438200-77d1-4635-e32e-d45fffca8ffd"
      },
      "outputs": [
        {
          "name": "stdout",
          "output_type": "stream",
          "text": [
            "Best Hyperparameters: {'alpha': 0.01, 'l1_ratio': 0.7}\n",
            "Train :  0.3968584588041409\n",
            "Test :  0.7496882123462729\n"
          ]
        }
      ],
      "source": [
        "#Elastic net\n",
        "elastic_net = ElasticNet()\n",
        "param_grid = {\n",
        "    'alpha': [0.0001, 0.001, 0.01, 0.1, 1.0],\n",
        "    'l1_ratio': [0.1, 0.3, 0.5, 0.7, 0.9]}\n",
        "mse_scorer = make_scorer(mean_squared_error, greater_is_better=False)\n",
        "grid_search = GridSearchCV(estimator=elastic_net, param_grid=param_grid, cv=5, scoring=mse_scorer)\n",
        "\n",
        "grid_search.fit(features_train, labels_train)\n",
        "print(\"Best Hyperparameters:\", grid_search.best_params_)\n",
        "best_elasticnet_norm_nopca = grid_search.best_estimator_\n",
        "print('Train : ', best_elasticnet_norm_nopca.score(features_train, labels_train))\n",
        "print('Test : ', best_elasticnet_norm_nopca.score(features_test, labels_test))\n"
      ]
    },
    {
      "cell_type": "code",
      "execution_count": 96,
      "metadata": {},
      "outputs": [
        {
          "data": {
            "text/plain": [
              "['best_elasticnet_norm_nopca.pkl']"
            ]
          },
          "execution_count": 96,
          "metadata": {},
          "output_type": "execute_result"
        }
      ],
      "source": [
        "joblib.dump(best_elasticnet_norm_nopca,\"best_elasticnet_norm_nopca.pkl\") "
      ]
    },
    {
      "cell_type": "markdown",
      "metadata": {
        "id": "e9T5LEsPL0kl"
      },
      "source": [
        "#############################"
      ]
    },
    {
      "cell_type": "code",
      "execution_count": 40,
      "metadata": {},
      "outputs": [
        {
          "name": "stdout",
          "output_type": "stream",
          "text": [
            "Train :  0.7910764852356836\n",
            "Test :  0.396031656513211\n"
          ]
        }
      ],
      "source": [
        "#Random forest regressor\n",
        "rfg_norm_nopca= RandomForestRegressor(n_estimators = 10, max_depth = 5, random_state = 77)\n",
        "rfg_norm_nopca.fit(features_train, labels_train)\n",
        "print('Train : ', rfg_norm_nopca.score(features_train, labels_train))\n",
        "print('Test : ', rfg_norm_nopca.score(features_test, labels_test))"
      ]
    },
    {
      "cell_type": "code",
      "execution_count": 93,
      "metadata": {},
      "outputs": [
        {
          "data": {
            "text/plain": [
              "['rfg_norm_nopca.pkl']"
            ]
          },
          "execution_count": 93,
          "metadata": {},
          "output_type": "execute_result"
        }
      ],
      "source": [
        "joblib.dump(rfg_norm_nopca,\"rfg_norm_nopca.pkl\") "
      ]
    },
    {
      "cell_type": "markdown",
      "metadata": {},
      "source": [
        "#######################################"
      ]
    },
    {
      "cell_type": "code",
      "execution_count": 43,
      "metadata": {},
      "outputs": [
        {
          "name": "stdout",
          "output_type": "stream",
          "text": [
            "Train :  0.6978691447799069\n",
            "Test :  -1.3598724535758013\n"
          ]
        }
      ],
      "source": [
        "#Decision tree regressor\n",
        "dt_reg = DecisionTreeRegressor(max_depth=20, min_samples_split=20,random_state=42)\n",
        "dt_reg.fit(features_train, labels_train)\n",
        "print('Train : ', dt_reg.score(features_train, labels_train))\n",
        "print('Test : ', dt_reg.score(features_test, labels_test))"
      ]
    },
    {
      "cell_type": "markdown",
      "metadata": {
        "id": "XQge4r7_NW2Y"
      },
      "source": [
        "###########################"
      ]
    },
    {
      "cell_type": "code",
      "execution_count": 49,
      "metadata": {},
      "outputs": [
        {
          "name": "stdout",
          "output_type": "stream",
          "text": [
            "Best parameters found:\n",
            "{'estimator__C': 10, 'estimator__epsilon': 0.01, 'estimator__gamma': 'scale', 'estimator__kernel': 'rbf'}\n",
            "Train Score: 0.44825533290257064\n",
            "Test Score: 0.8611375008440966\n"
          ]
        }
      ],
      "source": [
        "#Support vector regressor  \n",
        "svr_default = SVR()\n",
        "svr_norm_nopca_grid = MultiOutputRegressor(svr_default)\n",
        "\n",
        "param_grid = {\n",
        "    'estimator__kernel': ['rbf'],\n",
        "    'estimator__C': [ 0.1, 1, 5, 10],\n",
        "    'estimator__epsilon': [0.01, 0.1,1],\n",
        "    'estimator__gamma': ['scale', 'auto', 0.1, 0.01]\n",
        "}\n",
        "\n",
        "grid_search = GridSearchCV(svr_norm_nopca_grid, param_grid, cv=5, n_jobs=-1, scoring = mse_scorer)\n",
        "grid_search.fit(features_train, labels_train)\n",
        "\n",
        "print(\"Best parameters found:\")\n",
        "print(grid_search.best_params_)\n",
        "best_model_svr_norm_nopca = grid_search.best_estimator_\n",
        "\n",
        "print('Train Score:',  best_model_svr_norm_nopca.score(features_train, labels_train))\n",
        "print('Test Score:', best_model_svr_norm_nopca.score(features_test, labels_test))"
      ]
    },
    {
      "cell_type": "code",
      "execution_count": 55,
      "metadata": {},
      "outputs": [
        {
          "data": {
            "text/plain": [
              "['best_model_svr_final.pkl']"
            ]
          },
          "execution_count": 55,
          "metadata": {},
          "output_type": "execute_result"
        }
      ],
      "source": [
        "joblib.dump(best_model_svr_norm_nopca,\"best_model_svr_final.pkl\") "
      ]
    },
    {
      "cell_type": "markdown",
      "metadata": {
        "id": "JKxUbK9OO1zt"
      },
      "source": [
        "##############################"
      ]
    },
    {
      "cell_type": "code",
      "execution_count": 56,
      "metadata": {
        "colab": {
          "base_uri": "https://localhost:8080/"
        },
        "id": "KenldbzOKUPi",
        "outputId": "97f2a9b9-ee26-424f-e33f-611beda02921"
      },
      "outputs": [
        {
          "name": "stdout",
          "output_type": "stream",
          "text": [
            "Train :  0.9020809804205904\n",
            "Test :  0.73384485597618\n"
          ]
        }
      ],
      "source": [
        "#Adaboost\n",
        "ada_norm_nopca = MultiOutputRegressor(AdaBoostRegressor(n_estimators=50,learning_rate=0.01))\n",
        "ada_norm_nopca.fit(features_train, labels_train)\n",
        "print('Train : ', ada_norm_nopca.score(features_train, labels_train))\n",
        "print('Test : ', ada_norm_nopca.score(features_test, labels_test))"
      ]
    },
    {
      "cell_type": "code",
      "execution_count": 137,
      "metadata": {},
      "outputs": [
        {
          "data": {
            "text/plain": [
              "['ada_norm_nopca.pkl']"
            ]
          },
          "execution_count": 137,
          "metadata": {},
          "output_type": "execute_result"
        }
      ],
      "source": [
        "joblib.dump(ada_norm_nopca,\"ada_norm_nopca.pkl\")  "
      ]
    },
    {
      "cell_type": "markdown",
      "metadata": {
        "id": "Cuyoi48hGslm"
      },
      "source": [
        "##########################"
      ]
    },
    {
      "cell_type": "code",
      "execution_count": 57,
      "metadata": {
        "colab": {
          "base_uri": "https://localhost:8080/"
        },
        "id": "Tek3XErUKdNN",
        "outputId": "9e7220ca-c397-4bd5-aa0a-8d1f804e1d20"
      },
      "outputs": [
        {
          "name": "stdout",
          "output_type": "stream",
          "text": [
            "Train :  0.48381976660857945\n",
            "Test :  0.7855533920048933\n"
          ]
        }
      ],
      "source": [
        "#Xgboost \n",
        "xgb_norm_nopca = xg.XGBRegressor(learning_rate=0.3, max_depth=30 , n_estimators=30, gamma=0.5, reg_lambda= 100, reg_alpha = 10)\n",
        "xgb_norm_nopca.fit(features_train, labels_train)\n",
        "print('Train : ', xgb_norm_nopca.score(features_train, labels_train))\n",
        "print('Test : ', xgb_norm_nopca.score(features_test, labels_test))"
      ]
    },
    {
      "cell_type": "code",
      "execution_count": 132,
      "metadata": {},
      "outputs": [
        {
          "data": {
            "text/plain": [
              "['xgb_norm_nopca.pkl']"
            ]
          },
          "execution_count": 132,
          "metadata": {},
          "output_type": "execute_result"
        }
      ],
      "source": [
        "joblib.dump(xgb_norm_nopca,\"xgb_norm_nopca.pkl\") "
      ]
    },
    {
      "cell_type": "markdown",
      "metadata": {},
      "source": [
        "Let's try SVR on a video"
      ]
    },
    {
      "cell_type": "code",
      "execution_count": 58,
      "metadata": {},
      "outputs": [],
      "source": [
        "loaded_model = joblib.load(r\"D:\\ITIContent\\ml1proj\\best_model_svr_final.pkl\")"
      ]
    },
    {
      "cell_type": "markdown",
      "metadata": {
        "id": "kU5zD0eORjpi"
      },
      "source": [
        "Preparing for face trials"
      ]
    },
    {
      "cell_type": "code",
      "execution_count": 59,
      "metadata": {},
      "outputs": [],
      "source": [
        "def draw_axis(img, pitch,yaw,roll, tdx=None, tdy=None, size = 100):\n",
        "\n",
        "    yaw = -yaw\n",
        "    if tdx != None and tdy != None:\n",
        "        tdx = tdx\n",
        "        tdy = tdy\n",
        "    else:\n",
        "        height, width = img.shape[:2]\n",
        "        tdx = width / 2\n",
        "        tdy = height / 2\n",
        "\n",
        "    # X-Axis pointing to right. drawn in red\n",
        "    x1 = size * (cos(yaw) * cos(roll)) + tdx\n",
        "    y1 = size * (cos(pitch) * sin(roll) + cos(roll) * sin(pitch) * sin(yaw)) + tdy\n",
        "\n",
        "    # Y-Axis | drawn in green\n",
        "    #        v\n",
        "    x2 = size * (-cos(yaw) * sin(roll)) + tdx\n",
        "    y2 = size * (cos(pitch) * cos(roll) - sin(pitch) * sin(yaw) * sin(roll)) + tdy\n",
        "\n",
        "    # Z-Axis (out of the screen) drawn in blue\n",
        "    x3 = size * (sin(yaw)) + tdx\n",
        "    y3 = size * (-cos(yaw) * sin(pitch)) + tdy\n",
        "\n",
        "    cv2.line(img, (int(tdx), int(tdy)), (int(x1),int(y1)),(0,0,255),3)\n",
        "    cv2.line(img, (int(tdx), int(tdy)), (int(x2),int(y2)),(0,255,0),3)\n",
        "    cv2.line(img, (int(tdx), int(tdy)), (int(x3),int(y3)),(255,0,0),2)\n",
        "\n",
        "    return img"
      ]
    },
    {
      "cell_type": "code",
      "execution_count": 60,
      "metadata": {},
      "outputs": [],
      "source": [
        "def get_prediction(image , features ,model , flag=1):\n",
        "    \n",
        "    features2 = pre_process(features)\n",
        "    pose_para = model.predict(features2)\n",
        "    pitch = pose_para[0][0]\n",
        "    yaw = pose_para[0][1]\n",
        "    roll = pose_para[0][2]\n",
        "    \n",
        "    mat_arr = np.array(features)\n",
        "    \n",
        "    tx = mat_arr[0][10]*image.shape[1] \n",
        "    ty = mat_arr[0][11]*image.shape[0]\n",
        "    if flag ==1:\n",
        "        cv2.imshow('image' , draw_axis(image,pitch,yaw,roll , tx,ty))\n",
        "        cv2.waitKey(0)\n",
        "        plt.figure(figsize=(8,8))\n",
        "        image = cv2.cvtColor(image, cv2.COLOR_BGR2RGB)\n",
        "        pixels = np.array(image)\n",
        "        plt.imshow(pixels)\n",
        "    \n",
        "    return draw_axis(image,pitch,yaw,roll,tx,ty)"
      ]
    },
    {
      "cell_type": "code",
      "execution_count": 65,
      "metadata": {},
      "outputs": [],
      "source": [
        "input_video = cv2.VideoCapture(\"pexels_videos_2675511 (1080p).mp4\")\n",
        "\n",
        "# Get the video properties\n",
        "fps = input_video.get(cv2.CAP_PROP_FPS)\n",
        "width = int(input_video.get(cv2.CAP_PROP_FRAME_WIDTH))\n",
        "height = int(input_video.get(cv2.CAP_PROP_FRAME_HEIGHT))\n",
        "\n",
        "# Create VideoWriter object to write the processed frames\n",
        "output_video = cv2.VideoWriter('svr_video_2.mp4', \n",
        "                                cv2.VideoWriter_fourcc(*'mp4v'), \n",
        "                                fps, \n",
        "                                (width, height))\n",
        "\n",
        "# Process each frame\n",
        "while input_video.isOpened():\n",
        "    ret, frame = input_video.read()\n",
        "\n",
        "    if not ret:\n",
        "        break\n",
        "\n",
        "    processed_frame = cv2.cvtColor(frame, cv2.COLOR_BGR2GRAY)\n",
        "    \n",
        "    matrix = []\n",
        "    faceModule = mediapipe.solutions.face_mesh\n",
        "    # loading image and its correspinding mat file\n",
        "    with faceModule.FaceMesh(static_image_mode=True) as faces:\n",
        "        results = faces.process(cv2.cvtColor(frame, cv2.COLOR_BGR2RGB))\n",
        "\n",
        "        j=0\n",
        "        if results.multi_face_landmarks != None: \n",
        "          # looping over the faces in the image\n",
        "            for face in results.multi_face_landmarks:\n",
        "                for landmark in face.landmark:\n",
        "                    x = landmark.x\n",
        "                    y = landmark.y\n",
        "                    #matrix.append([x,y])\n",
        "                    if j==0:\n",
        "                        matrix.append([x,y])\n",
        "                        j=1\n",
        "                    else:\n",
        "                        matrix[0].extend([x,y])\n",
        "    \n",
        "\n",
        "            processed_frame = get_prediction(frame , matrix ,loaded_model , 0) \n",
        "        \n",
        "        else:\n",
        "            processed_frame = frame\n",
        "\n",
        "    # Write the processed frame to the output video\n",
        "    output_video.write(processed_frame)\n",
        "\n",
        "# Release video objects\n",
        "input_video.release()\n",
        "output_video.release()\n",
        "cv2.destroyAllWindows()"
      ]
    },
    {
      "cell_type": "markdown",
      "metadata": {},
      "source": [
        "________________________________________________________________________________________________________________________________________________"
      ]
    }
  ],
  "metadata": {
    "accelerator": "GPU",
    "colab": {
      "gpuType": "T4",
      "provenance": []
    },
    "kernelspec": {
      "display_name": "Python 3",
      "name": "python3"
    },
    "language_info": {
      "codemirror_mode": {
        "name": "ipython",
        "version": 3
      },
      "file_extension": ".py",
      "mimetype": "text/x-python",
      "name": "python",
      "nbconvert_exporter": "python",
      "pygments_lexer": "ipython3",
      "version": "3.10.5"
    }
  },
  "nbformat": 4,
  "nbformat_minor": 0
}
